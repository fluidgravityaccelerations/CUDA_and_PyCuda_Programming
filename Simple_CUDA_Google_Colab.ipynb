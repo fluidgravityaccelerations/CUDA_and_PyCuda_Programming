{
  "nbformat": 4,
  "nbformat_minor": 0,
  "metadata": {
    "colab": {
      "provenance": []
    },
    "kernelspec": {
      "name": "python3",
      "display_name": "Python 3"
    },
    "accelerator": "GPU"
  },
  "cells": [
    {
      "cell_type": "code",
      "metadata": {
        "colab": {
          "base_uri": "https://localhost:8080/"
        },
        "id": "GpK5HmUE-BHO",
        "outputId": "e6525aca-b983-462d-b81e-f9421fca2541"
      },
      "source": [
        "!nvcc --version"
      ],
      "execution_count": 1,
      "outputs": [
        {
          "output_type": "stream",
          "name": "stdout",
          "text": [
            "nvcc: NVIDIA (R) Cuda compiler driver\n",
            "Copyright (c) 2005-2024 NVIDIA Corporation\n",
            "Built on Thu_Jun__6_02:18:23_PDT_2024\n",
            "Cuda compilation tools, release 12.5, V12.5.82\n",
            "Build cuda_12.5.r12.5/compiler.34385749_0\n"
          ]
        }
      ]
    },
    {
      "cell_type": "code",
      "metadata": {
        "colab": {
          "base_uri": "https://localhost:8080/"
        },
        "id": "pmKsBgaj_uVT",
        "outputId": "c6b30fe5-c921-40af-80d9-1c24521f72b8"
      },
      "source": [
        "%%writefile array_sum.cu\n",
        "\n",
        "#include <stdio.h>\n",
        "#include <cuda_runtime.h>\n",
        "\n",
        "/**********/\n",
        "/* iDivUp */\n",
        "/**********/\n",
        "int iDivUp(int a, int b) { return ((a % b) != 0) ? (a / b + 1) : (a / b); }\n",
        "\n",
        "/********************/\n",
        "/* CUDA ERROR CHECK */\n",
        "/********************/\n",
        "#define gpuErrchk(ans) { gpuAssert((ans), __FILE__, __LINE__); }\n",
        "inline void gpuAssert(cudaError_t code, const char *file, int line, bool abort = true)\n",
        "{\n",
        "    if (code != cudaSuccess)\n",
        "    {\n",
        "        fprintf(stderr, \"GPUassert: %s %s %d\\n\", cudaGetErrorString(code), file, line);\n",
        "        if (abort) exit(code);\n",
        "    }\n",
        "}\n",
        "\n",
        "/********************/\n",
        "/* CPU SUM FUNCTION */\n",
        "/********************/\n",
        "void sumCPU(int *a, int *b, int *c, int N) {\n",
        "    for (int k = 0; k < N; k++) {\n",
        "        c[k] = a[k] + b[k];\n",
        "        printf(\"c[%i] = %i\\n\", k, c[k]);\n",
        "    }\n",
        "}\n",
        "\n",
        "/********************/\n",
        "/* GPU SUM FUNCTION */\n",
        "/********************/\n",
        "__global__ void sumGPU(int *d_a, int *d_b, int *d_c, int N) {\n",
        "    const int tid = threadIdx.x + blockIdx.x * blockDim.x;\n",
        "    if (tid < N)\n",
        "        d_c[tid] = d_a[tid] + d_b[tid];\n",
        "}\n",
        "\n",
        "/********************/\n",
        "/* MAIN PROGRAM     */\n",
        "/********************/\n",
        "int main() {\n",
        "\n",
        "    const int N = 17;\n",
        "    const int threadsPerBlock = 8;\n",
        "    const int blocksPerGrid = iDivUp(N, threadsPerBlock);\n",
        "\n",
        "    printf(\"Launching %d blocks of %d threads (total %d threads)\\n\",\n",
        "           blocksPerGrid, threadsPerBlock, blocksPerGrid * threadsPerBlock);\n",
        "\n",
        "    // Host allocation\n",
        "    int *a = (int *)malloc(N * sizeof(int));\n",
        "    int *b = (int *)malloc(N * sizeof(int));\n",
        "    int *c = (int *)malloc(N * sizeof(int));\n",
        "\n",
        "    // Device allocation\n",
        "    int *d_a, *d_b, *d_c;\n",
        "    gpuErrchk(cudaMalloc(&d_a, N * sizeof(int)));\n",
        "    gpuErrchk(cudaMalloc(&d_b, N * sizeof(int)));\n",
        "    gpuErrchk(cudaMalloc(&d_c, N * sizeof(int)));\n",
        "\n",
        "    // Initialize input data\n",
        "    for (int k = 0; k < N; k++) {\n",
        "        a[k] = k;\n",
        "        b[k] = 2 * k;\n",
        "    }\n",
        "\n",
        "    // Copy inputs to device\n",
        "    gpuErrchk(cudaMemcpy(d_a, a, N * sizeof(int), cudaMemcpyHostToDevice));\n",
        "    gpuErrchk(cudaMemcpy(d_b, b, N * sizeof(int), cudaMemcpyHostToDevice));\n",
        "\n",
        "    // Launch kernel\n",
        "    sumGPU<<<blocksPerGrid, threadsPerBlock>>>(d_a, d_b, d_c, N);\n",
        "    gpuErrchk(cudaPeekAtLastError());\n",
        "    gpuErrchk(cudaDeviceSynchronize());\n",
        "\n",
        "    // Copy result back to host\n",
        "    gpuErrchk(cudaMemcpy(c, d_c, N * sizeof(int), cudaMemcpyDeviceToHost));\n",
        "\n",
        "    // Print results\n",
        "    for (int k = 0; k < N; k++) printf(\"c[%d] = %d\\n\", k, c[k]);\n",
        "\n",
        "    // Free resources\n",
        "    free(a);\n",
        "    free(b);\n",
        "    free(c);\n",
        "    cudaFree(d_a);\n",
        "    cudaFree(d_b);\n",
        "    cudaFree(d_c);\n",
        "\n",
        "    // Optional final sync (good practice)\n",
        "    gpuErrchk(cudaDeviceSynchronize());\n",
        "\n",
        "    return 0;\n",
        "}\n"
      ],
      "execution_count": 2,
      "outputs": [
        {
          "output_type": "stream",
          "name": "stdout",
          "text": [
            "Writing array_sum.cu\n"
          ]
        }
      ]
    },
    {
      "cell_type": "code",
      "source": [
        "!nvcc -arch=sm_75 array_sum.cu -o array_sum"
      ],
      "metadata": {
        "id": "_OMdaR9bZtss"
      },
      "execution_count": 3,
      "outputs": []
    },
    {
      "cell_type": "code",
      "source": [
        "!./array_sum"
      ],
      "metadata": {
        "colab": {
          "base_uri": "https://localhost:8080/"
        },
        "id": "ITVXSJW7Z2aF",
        "outputId": "523134df-6445-4413-fdd3-67ddc9eeb65b"
      },
      "execution_count": 4,
      "outputs": [
        {
          "output_type": "stream",
          "name": "stdout",
          "text": [
            "Launching 3 blocks of 8 threads (total 24 threads)\n",
            "c[0] = 0\n",
            "c[1] = 3\n",
            "c[2] = 6\n",
            "c[3] = 9\n",
            "c[4] = 12\n",
            "c[5] = 15\n",
            "c[6] = 18\n",
            "c[7] = 21\n",
            "c[8] = 24\n",
            "c[9] = 27\n",
            "c[10] = 30\n",
            "c[11] = 33\n",
            "c[12] = 36\n",
            "c[13] = 39\n",
            "c[14] = 42\n",
            "c[15] = 45\n",
            "c[16] = 48\n"
          ]
        }
      ]
    }
  ]
}