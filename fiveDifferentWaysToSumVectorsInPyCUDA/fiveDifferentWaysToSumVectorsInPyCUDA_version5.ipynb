{
  "nbformat": 4,
  "nbformat_minor": 0,
  "metadata": {
    "colab": {
      "provenance": []
    },
    "kernelspec": {
      "name": "python3",
      "display_name": "Python 3"
    },
    "accelerator": "GPU"
  },
  "cells": [
    {
      "cell_type": "markdown",
      "metadata": {
        "id": "-add2z2Ivhre"
      },
      "source": [
        "# PyCUDA installation"
      ]
    },
    {
      "cell_type": "code",
      "metadata": {
        "id": "pvCBAyczvHVW",
        "outputId": "bad94e18-5656-4943-a314-077942ad61ff",
        "colab": {
          "base_uri": "https://localhost:8080/"
        }
      },
      "source": [
        "!pip install pycuda"
      ],
      "execution_count": 1,
      "outputs": [
        {
          "output_type": "stream",
          "name": "stdout",
          "text": [
            "Requirement already satisfied: pycuda in /usr/local/lib/python3.12/dist-packages (2025.1.2)\n",
            "Requirement already satisfied: pytools>=2011.2 in /usr/local/lib/python3.12/dist-packages (from pycuda) (2025.2.5)\n",
            "Requirement already satisfied: platformdirs>=2.2.0 in /usr/local/lib/python3.12/dist-packages (from pycuda) (4.5.0)\n",
            "Requirement already satisfied: mako in /usr/local/lib/python3.12/dist-packages (from pycuda) (1.3.10)\n",
            "Requirement already satisfied: siphash24>=1.6 in /usr/local/lib/python3.12/dist-packages (from pytools>=2011.2->pycuda) (1.8)\n",
            "Requirement already satisfied: typing-extensions>=4.5 in /usr/local/lib/python3.12/dist-packages (from pytools>=2011.2->pycuda) (4.15.0)\n",
            "Requirement already satisfied: MarkupSafe>=0.9.2 in /usr/local/lib/python3.12/dist-packages (from mako->pycuda) (3.0.3)\n"
          ]
        }
      ]
    },
    {
      "cell_type": "markdown",
      "metadata": {
        "id": "ZOPYkqejvng0"
      },
      "source": [
        "\n",
        "\n",
        "---\n",
        "\n"
      ]
    },
    {
      "cell_type": "markdown",
      "metadata": {
        "id": "KcsCYa8ouvsN"
      },
      "source": [
        "# Version 5: using ```SourceModule``` while handling vectors by ```gpuArray```"
      ]
    },
    {
      "cell_type": "markdown",
      "metadata": {
        "id": "II-WlM_9wgsm"
      },
      "source": [
        "The first part is as usual Version #1."
      ]
    },
    {
      "cell_type": "code",
      "metadata": {
        "id": "MDW8aSggum9M"
      },
      "source": [
        "import numpy as np\n",
        "\n",
        "# --- PyCUDA initialization\n",
        "import pycuda.gpuarray as gpuarray\n",
        "import pycuda.driver as cuda\n",
        "import pycuda.autoinit\n",
        "from pycuda.compiler import SourceModule\n",
        "\n",
        "###################\n",
        "# iDivUp FUNCTION #\n",
        "###################\n",
        "def iDivUp(a, b): return (a + b - 1) // b\n",
        "\n",
        "########\n",
        "# MAIN #\n",
        "########\n",
        "\n",
        "start = cuda.Event()\n",
        "end   = cuda.Event()\n",
        "\n",
        "N = 100000\n",
        "\n",
        "BLOCKSIZE = 256\n",
        "\n",
        "# --- Create random vectors on the CPU\n",
        "h_a = np.random.randn(1, N)\n",
        "h_b = np.random.randn(1, N)\n",
        "\n",
        "# --- Set CPU arrays as single precision\n",
        "h_a = h_a.astype(np.float32)\n",
        "h_b = h_b.astype(np.float32)\n",
        "h_c = np.empty_like(h_a)\n",
        "\n",
        "mod = SourceModule(\"\"\"\n",
        "__global__ void deviceAdd(float * __restrict__ d_c, const float * __restrict__ d_a,\n",
        "                                                    const float * __restrict__ d_b,\n",
        "                                                    const int N)\n",
        "{\n",
        "  const int tid = threadIdx.x + blockIdx.x * blockDim.x;\n",
        "  if (tid >= N) return;\n",
        "  d_c[tid] = d_a[tid] + d_b[tid];\n",
        "}\n",
        "\"\"\")"
      ],
      "execution_count": 2,
      "outputs": []
    },
    {
      "cell_type": "markdown",
      "metadata": {
        "id": "0q9KrGmmw-Nl"
      },
      "source": [
        "The second part is as for Version #3, apart from the fact that ```d_c``` is declared and initialized by ```gpuarray.zeros_like()```."
      ]
    },
    {
      "cell_type": "code",
      "metadata": {
        "id": "erqoqeYpw9Zv",
        "outputId": "40d972b7-87bf-4174-afb0-4fc02f27c9c0",
        "colab": {
          "base_uri": "https://localhost:8080/"
        }
      },
      "source": [
        "d_a = gpuarray.to_gpu(h_a)\n",
        "d_b = gpuarray.to_gpu(h_b)\n",
        "d_c = gpuarray.zeros_like(d_a)\n",
        "\n",
        "# --- Define a reference to the __global__ function and call it\n",
        "deviceAdd = mod.get_function(\"deviceAdd\")\n",
        "blockDim  = (BLOCKSIZE, 1, 1)\n",
        "gridDim   = (int(iDivUp(N, BLOCKSIZE)), 1, 1)\n",
        "\n",
        "# --- Warmup execution\n",
        "deviceAdd(d_c, d_a, d_b, np.int32(N), block = blockDim, grid = gridDim)\n",
        "\n",
        "start.record()\n",
        "deviceAdd(d_c, d_a, d_b, np.int32(N), block = blockDim, grid = gridDim)\n",
        "end.record()\n",
        "end.synchronize()\n",
        "secs = start.time_till(end) * 1e-3\n",
        "print(\"Processing time = %fs\" % (secs))\n",
        "\n",
        "h_c = d_c.get()\n",
        "\n",
        "if np.array_equal(h_c, h_a + h_b):\n",
        "  print(\"Test passed!\")\n",
        "else :\n",
        "  print(\"Error!\")\n",
        "\n",
        "# --- Flush context printf buffer\n",
        "cuda.Context.synchronize()"
      ],
      "execution_count": 3,
      "outputs": [
        {
          "output_type": "stream",
          "name": "stdout",
          "text": [
            "Processing time = 0.000119s\n",
            "Test passed!\n"
          ]
        }
      ]
    }
  ]
}